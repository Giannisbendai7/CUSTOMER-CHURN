{
 "cells": [
  {
   "cell_type": "code",
   "execution_count": 6,
   "id": "65dd9553-fd9b-4c3c-b11a-d31dc1b37dbf",
   "metadata": {},
   "outputs": [],
   "source": [
    "import pandas as pd \n",
    "\n",
    "####---- LOAD THE CSV IN DATAFRAME::\n",
    "df = pd.read_csv(r\"C:\\Users\\user\\Downloads\\Fintech_user.csv.zip\", compression='zip')"
   ]
  },
  {
   "cell_type": "code",
   "execution_count": 8,
   "id": "765a1aeb-e95a-44bc-9d07-e880f2c3cbd2",
   "metadata": {},
   "outputs": [
    {
     "name": "stdout",
     "output_type": "stream",
     "text": [
      "    user  churn   age housing  credit_score  deposits  withdrawal  \\\n",
      "0  55409      0  37.0      na           NaN         0           0   \n",
      "1  23547      0  28.0       R         486.0         0           0   \n",
      "2  58313      0  35.0       R         561.0        47           2   \n",
      "3   8095      0  26.0       R         567.0        26           3   \n",
      "4  61353      1  27.0      na           NaN         0           0   \n",
      "\n",
      "   purchases_partners  purchases  cc_taken  ...  waiting_4_loan  \\\n",
      "0                   0          0         0  ...               0   \n",
      "1                   1          0         0  ...               0   \n",
      "2                  86         47         0  ...               0   \n",
      "3                  38         25         0  ...               0   \n",
      "4                   2          0         0  ...               0   \n",
      "\n",
      "   cancelled_loan  received_loan  rejected_loan  zodiac_sign  \\\n",
      "0               0              0              0          Leo   \n",
      "1               0              0              0          Leo   \n",
      "2               0              0              0    Capricorn   \n",
      "3               0              0              0    Capricorn   \n",
      "4               0              0              0        Aries   \n",
      "\n",
      "   left_for_two_month_plus  left_for_one_month  rewards_earned  reward_rate  \\\n",
      "0                        1                   0             NaN         0.00   \n",
      "1                        0                   0            44.0         1.47   \n",
      "2                        1                   0            65.0         2.17   \n",
      "3                        0                   0            33.0         1.10   \n",
      "4                        1                   0             1.0         0.03   \n",
      "\n",
      "   is_referred  \n",
      "0            0  \n",
      "1            1  \n",
      "2            0  \n",
      "3            1  \n",
      "4            0  \n",
      "\n",
      "[5 rows x 31 columns]\n"
     ]
    }
   ],
   "source": [
    "print(df.head())"
   ]
  },
  {
   "cell_type": "code",
   "execution_count": 10,
   "id": "151e54a7-71ca-4ee5-83a2-50a69cfb4a84",
   "metadata": {},
   "outputs": [
    {
     "name": "stdout",
     "output_type": "stream",
     "text": [
      "user                         int64\n",
      "churn                        int64\n",
      "age                        float64\n",
      "housing                     object\n",
      "credit_score               float64\n",
      "deposits                     int64\n",
      "withdrawal                   int64\n",
      "purchases_partners           int64\n",
      "purchases                    int64\n",
      "cc_taken                     int64\n",
      "cc_recommended               int64\n",
      "cc_disliked                  int64\n",
      "cc_liked                     int64\n",
      "cc_application_begin         int64\n",
      "app_downloaded               int64\n",
      "web_user                     int64\n",
      "app_web_user                 int64\n",
      "ios_user                     int64\n",
      "android_user                 int64\n",
      "registered_phones            int64\n",
      "payment_type                object\n",
      "waiting_4_loan               int64\n",
      "cancelled_loan               int64\n",
      "received_loan                int64\n",
      "rejected_loan                int64\n",
      "zodiac_sign                 object\n",
      "left_for_two_month_plus      int64\n",
      "left_for_one_month           int64\n",
      "rewards_earned             float64\n",
      "reward_rate                float64\n",
      "is_referred                  int64\n",
      "dtype: object\n"
     ]
    }
   ],
   "source": [
    "print(df.dtypes)"
   ]
  },
  {
   "cell_type": "code",
   "execution_count": 12,
   "id": "95774b30-6d5d-4871-9126-9f736a0e8e2e",
   "metadata": {},
   "outputs": [
    {
     "name": "stdout",
     "output_type": "stream",
     "text": [
      "user                          0\n",
      "churn                         0\n",
      "age                           4\n",
      "housing                       0\n",
      "credit_score               8031\n",
      "deposits                      0\n",
      "withdrawal                    0\n",
      "purchases_partners            0\n",
      "purchases                     0\n",
      "cc_taken                      0\n",
      "cc_recommended                0\n",
      "cc_disliked                   0\n",
      "cc_liked                      0\n",
      "cc_application_begin          0\n",
      "app_downloaded                0\n",
      "web_user                      0\n",
      "app_web_user                  0\n",
      "ios_user                      0\n",
      "android_user                  0\n",
      "registered_phones             0\n",
      "payment_type                  0\n",
      "waiting_4_loan                0\n",
      "cancelled_loan                0\n",
      "received_loan                 0\n",
      "rejected_loan                 0\n",
      "zodiac_sign                   0\n",
      "left_for_two_month_plus       0\n",
      "left_for_one_month            0\n",
      "rewards_earned             3227\n",
      "reward_rate                   0\n",
      "is_referred                   0\n",
      "dtype: int64\n"
     ]
    }
   ],
   "source": [
    "print(df.isnull().sum())"
   ]
  },
  {
   "cell_type": "code",
   "execution_count": 14,
   "id": "ae5618f3-a02e-4418-8fca-9bc2ac3a1222",
   "metadata": {},
   "outputs": [
    {
     "data": {
      "text/plain": [
       "<bound method DataFrame.nunique of         user  churn   age housing  credit_score  deposits  withdrawal  \\\n",
       "0      55409      0  37.0      na           NaN         0           0   \n",
       "1      23547      0  28.0       R         486.0         0           0   \n",
       "2      58313      0  35.0       R         561.0        47           2   \n",
       "3       8095      0  26.0       R         567.0        26           3   \n",
       "4      61353      1  27.0      na           NaN         0           0   \n",
       "...      ...    ...   ...     ...           ...       ...         ...   \n",
       "26995  24291      1  24.0       R         580.0         0           0   \n",
       "26996   4116      1  26.0      na           NaN         0           0   \n",
       "26997  23740      0  22.0      na           NaN         0           0   \n",
       "26998  47663      1  46.0      na         529.0         2           0   \n",
       "26999  52752      1  34.0      na         525.0         0           0   \n",
       "\n",
       "       purchases_partners  purchases  cc_taken  ...  waiting_4_loan  \\\n",
       "0                       0          0         0  ...               0   \n",
       "1                       1          0         0  ...               0   \n",
       "2                      86         47         0  ...               0   \n",
       "3                      38         25         0  ...               0   \n",
       "4                       2          0         0  ...               0   \n",
       "...                   ...        ...       ...  ...             ...   \n",
       "26995                   0          0         0  ...               0   \n",
       "26996                   2          0         0  ...               0   \n",
       "26997                  37          0         0  ...               0   \n",
       "26998                  16          2         0  ...               0   \n",
       "26999                   4          0         0  ...               0   \n",
       "\n",
       "       cancelled_loan  received_loan  rejected_loan  zodiac_sign  \\\n",
       "0                   0              0              0          Leo   \n",
       "1                   0              0              0          Leo   \n",
       "2                   0              0              0    Capricorn   \n",
       "3                   0              0              0    Capricorn   \n",
       "4                   0              0              0        Aries   \n",
       "...               ...            ...            ...          ...   \n",
       "26995               0              0              0          Leo   \n",
       "26996               0              0              1       Cancer   \n",
       "26997               0              0              0       Taurus   \n",
       "26998               0              0              0        Aries   \n",
       "26999               0              0              0       Cancer   \n",
       "\n",
       "       left_for_two_month_plus  left_for_one_month  rewards_earned  \\\n",
       "0                            1                   0             NaN   \n",
       "1                            0                   0            44.0   \n",
       "2                            1                   0            65.0   \n",
       "3                            0                   0            33.0   \n",
       "4                            1                   0             1.0   \n",
       "...                        ...                 ...             ...   \n",
       "26995                        0                   0            32.0   \n",
       "26996                        1                   0             2.0   \n",
       "26997                        0                   0            28.0   \n",
       "26998                        1                   0            27.0   \n",
       "26999                        0                   0             4.0   \n",
       "\n",
       "       reward_rate  is_referred  \n",
       "0             0.00            0  \n",
       "1             1.47            1  \n",
       "2             2.17            0  \n",
       "3             1.10            1  \n",
       "4             0.03            0  \n",
       "...            ...          ...  \n",
       "26995         1.07            1  \n",
       "26996         0.67            0  \n",
       "26997         0.93            0  \n",
       "26998         0.90            1  \n",
       "26999         0.13            0  \n",
       "\n",
       "[27000 rows x 31 columns]>"
      ]
     },
     "execution_count": 14,
     "metadata": {},
     "output_type": "execute_result"
    }
   ],
   "source": [
    "df.nunique"
   ]
  },
  {
   "cell_type": "code",
   "execution_count": 16,
   "id": "87892fb8-9d79-41b1-a012-5df5982135f9",
   "metadata": {},
   "outputs": [
    {
     "data": {
      "text/plain": [
       "Index(['user', 'churn', 'age', 'housing', 'credit_score', 'deposits',\n",
       "       'withdrawal', 'purchases_partners', 'purchases', 'cc_taken',\n",
       "       'cc_recommended', 'cc_disliked', 'cc_liked', 'cc_application_begin',\n",
       "       'app_downloaded', 'web_user', 'app_web_user', 'ios_user',\n",
       "       'android_user', 'registered_phones', 'payment_type', 'waiting_4_loan',\n",
       "       'cancelled_loan', 'received_loan', 'rejected_loan', 'zodiac_sign',\n",
       "       'left_for_two_month_plus', 'left_for_one_month', 'rewards_earned',\n",
       "       'reward_rate', 'is_referred'],\n",
       "      dtype='object')"
      ]
     },
     "execution_count": 16,
     "metadata": {},
     "output_type": "execute_result"
    }
   ],
   "source": [
    "df.columns"
   ]
  },
  {
   "cell_type": "code",
   "execution_count": 20,
   "id": "1f14886c-4ee2-4495-abdc-5c64b49f194b",
   "metadata": {},
   "outputs": [
    {
     "data": {
      "text/plain": [
       "<bound method DataFrame.info of         user  churn   age housing  credit_score  deposits  withdrawal  \\\n",
       "0      55409      0  37.0      na           NaN         0           0   \n",
       "1      23547      0  28.0       R         486.0         0           0   \n",
       "2      58313      0  35.0       R         561.0        47           2   \n",
       "3       8095      0  26.0       R         567.0        26           3   \n",
       "4      61353      1  27.0      na           NaN         0           0   \n",
       "...      ...    ...   ...     ...           ...       ...         ...   \n",
       "26995  24291      1  24.0       R         580.0         0           0   \n",
       "26996   4116      1  26.0      na           NaN         0           0   \n",
       "26997  23740      0  22.0      na           NaN         0           0   \n",
       "26998  47663      1  46.0      na         529.0         2           0   \n",
       "26999  52752      1  34.0      na         525.0         0           0   \n",
       "\n",
       "       purchases_partners  purchases  cc_taken  ...  waiting_4_loan  \\\n",
       "0                       0          0         0  ...               0   \n",
       "1                       1          0         0  ...               0   \n",
       "2                      86         47         0  ...               0   \n",
       "3                      38         25         0  ...               0   \n",
       "4                       2          0         0  ...               0   \n",
       "...                   ...        ...       ...  ...             ...   \n",
       "26995                   0          0         0  ...               0   \n",
       "26996                   2          0         0  ...               0   \n",
       "26997                  37          0         0  ...               0   \n",
       "26998                  16          2         0  ...               0   \n",
       "26999                   4          0         0  ...               0   \n",
       "\n",
       "       cancelled_loan  received_loan  rejected_loan  zodiac_sign  \\\n",
       "0                   0              0              0          Leo   \n",
       "1                   0              0              0          Leo   \n",
       "2                   0              0              0    Capricorn   \n",
       "3                   0              0              0    Capricorn   \n",
       "4                   0              0              0        Aries   \n",
       "...               ...            ...            ...          ...   \n",
       "26995               0              0              0          Leo   \n",
       "26996               0              0              1       Cancer   \n",
       "26997               0              0              0       Taurus   \n",
       "26998               0              0              0        Aries   \n",
       "26999               0              0              0       Cancer   \n",
       "\n",
       "       left_for_two_month_plus  left_for_one_month  rewards_earned  \\\n",
       "0                            1                   0             NaN   \n",
       "1                            0                   0            44.0   \n",
       "2                            1                   0            65.0   \n",
       "3                            0                   0            33.0   \n",
       "4                            1                   0             1.0   \n",
       "...                        ...                 ...             ...   \n",
       "26995                        0                   0            32.0   \n",
       "26996                        1                   0             2.0   \n",
       "26997                        0                   0            28.0   \n",
       "26998                        1                   0            27.0   \n",
       "26999                        0                   0             4.0   \n",
       "\n",
       "       reward_rate  is_referred  \n",
       "0             0.00            0  \n",
       "1             1.47            1  \n",
       "2             2.17            0  \n",
       "3             1.10            1  \n",
       "4             0.03            0  \n",
       "...            ...          ...  \n",
       "26995         1.07            1  \n",
       "26996         0.67            0  \n",
       "26997         0.93            0  \n",
       "26998         0.90            1  \n",
       "26999         0.13            0  \n",
       "\n",
       "[27000 rows x 31 columns]>"
      ]
     },
     "execution_count": 20,
     "metadata": {},
     "output_type": "execute_result"
    }
   ],
   "source": [
    "df.info"
   ]
  },
  {
   "cell_type": "code",
   "execution_count": 26,
   "id": "845f7797-f09d-4486-9705-7be90e098bfc",
   "metadata": {},
   "outputs": [
    {
     "data": {
      "text/html": [
       "<div>\n",
       "<style scoped>\n",
       "    .dataframe tbody tr th:only-of-type {\n",
       "        vertical-align: middle;\n",
       "    }\n",
       "\n",
       "    .dataframe tbody tr th {\n",
       "        vertical-align: top;\n",
       "    }\n",
       "\n",
       "    .dataframe thead th {\n",
       "        text-align: right;\n",
       "    }\n",
       "</style>\n",
       "<table border=\"1\" class=\"dataframe\">\n",
       "  <thead>\n",
       "    <tr style=\"text-align: right;\">\n",
       "      <th></th>\n",
       "      <th>user</th>\n",
       "      <th>churn</th>\n",
       "      <th>age</th>\n",
       "      <th>credit_score</th>\n",
       "      <th>deposits</th>\n",
       "      <th>withdrawal</th>\n",
       "      <th>purchases_partners</th>\n",
       "      <th>purchases</th>\n",
       "      <th>cc_taken</th>\n",
       "      <th>cc_recommended</th>\n",
       "      <th>...</th>\n",
       "      <th>registered_phones</th>\n",
       "      <th>waiting_4_loan</th>\n",
       "      <th>cancelled_loan</th>\n",
       "      <th>received_loan</th>\n",
       "      <th>rejected_loan</th>\n",
       "      <th>left_for_two_month_plus</th>\n",
       "      <th>left_for_one_month</th>\n",
       "      <th>rewards_earned</th>\n",
       "      <th>reward_rate</th>\n",
       "      <th>is_referred</th>\n",
       "    </tr>\n",
       "  </thead>\n",
       "  <tbody>\n",
       "    <tr>\n",
       "      <th>count</th>\n",
       "      <td>27000.000000</td>\n",
       "      <td>27000.000000</td>\n",
       "      <td>26996.000000</td>\n",
       "      <td>18969.000000</td>\n",
       "      <td>27000.000000</td>\n",
       "      <td>27000.000000</td>\n",
       "      <td>27000.000000</td>\n",
       "      <td>27000.000000</td>\n",
       "      <td>27000.000000</td>\n",
       "      <td>27000.000000</td>\n",
       "      <td>...</td>\n",
       "      <td>27000.000000</td>\n",
       "      <td>27000.000000</td>\n",
       "      <td>27000.000000</td>\n",
       "      <td>27000.000000</td>\n",
       "      <td>27000.000000</td>\n",
       "      <td>27000.000000</td>\n",
       "      <td>27000.000000</td>\n",
       "      <td>23773.000000</td>\n",
       "      <td>27000.000000</td>\n",
       "      <td>27000.000000</td>\n",
       "    </tr>\n",
       "    <tr>\n",
       "      <th>mean</th>\n",
       "      <td>35422.702519</td>\n",
       "      <td>0.413852</td>\n",
       "      <td>32.219921</td>\n",
       "      <td>542.944225</td>\n",
       "      <td>3.341556</td>\n",
       "      <td>0.307000</td>\n",
       "      <td>28.062519</td>\n",
       "      <td>3.273481</td>\n",
       "      <td>0.073778</td>\n",
       "      <td>92.625778</td>\n",
       "      <td>...</td>\n",
       "      <td>0.420926</td>\n",
       "      <td>0.001296</td>\n",
       "      <td>0.018815</td>\n",
       "      <td>0.018185</td>\n",
       "      <td>0.004889</td>\n",
       "      <td>0.173444</td>\n",
       "      <td>0.018074</td>\n",
       "      <td>29.110125</td>\n",
       "      <td>0.907684</td>\n",
       "      <td>0.318037</td>\n",
       "    </tr>\n",
       "    <tr>\n",
       "      <th>std</th>\n",
       "      <td>20321.006678</td>\n",
       "      <td>0.492532</td>\n",
       "      <td>9.964838</td>\n",
       "      <td>61.059315</td>\n",
       "      <td>9.131406</td>\n",
       "      <td>1.055416</td>\n",
       "      <td>42.219686</td>\n",
       "      <td>8.953077</td>\n",
       "      <td>0.437299</td>\n",
       "      <td>88.869343</td>\n",
       "      <td>...</td>\n",
       "      <td>0.912831</td>\n",
       "      <td>0.035981</td>\n",
       "      <td>0.135873</td>\n",
       "      <td>0.133623</td>\n",
       "      <td>0.069751</td>\n",
       "      <td>0.378638</td>\n",
       "      <td>0.133222</td>\n",
       "      <td>21.973478</td>\n",
       "      <td>0.752016</td>\n",
       "      <td>0.465723</td>\n",
       "    </tr>\n",
       "    <tr>\n",
       "      <th>min</th>\n",
       "      <td>1.000000</td>\n",
       "      <td>0.000000</td>\n",
       "      <td>17.000000</td>\n",
       "      <td>2.000000</td>\n",
       "      <td>0.000000</td>\n",
       "      <td>0.000000</td>\n",
       "      <td>0.000000</td>\n",
       "      <td>0.000000</td>\n",
       "      <td>0.000000</td>\n",
       "      <td>0.000000</td>\n",
       "      <td>...</td>\n",
       "      <td>0.000000</td>\n",
       "      <td>0.000000</td>\n",
       "      <td>0.000000</td>\n",
       "      <td>0.000000</td>\n",
       "      <td>0.000000</td>\n",
       "      <td>0.000000</td>\n",
       "      <td>0.000000</td>\n",
       "      <td>1.000000</td>\n",
       "      <td>0.000000</td>\n",
       "      <td>0.000000</td>\n",
       "    </tr>\n",
       "    <tr>\n",
       "      <th>25%</th>\n",
       "      <td>17810.500000</td>\n",
       "      <td>0.000000</td>\n",
       "      <td>25.000000</td>\n",
       "      <td>507.000000</td>\n",
       "      <td>0.000000</td>\n",
       "      <td>0.000000</td>\n",
       "      <td>0.000000</td>\n",
       "      <td>0.000000</td>\n",
       "      <td>0.000000</td>\n",
       "      <td>10.000000</td>\n",
       "      <td>...</td>\n",
       "      <td>0.000000</td>\n",
       "      <td>0.000000</td>\n",
       "      <td>0.000000</td>\n",
       "      <td>0.000000</td>\n",
       "      <td>0.000000</td>\n",
       "      <td>0.000000</td>\n",
       "      <td>0.000000</td>\n",
       "      <td>9.000000</td>\n",
       "      <td>0.200000</td>\n",
       "      <td>0.000000</td>\n",
       "    </tr>\n",
       "    <tr>\n",
       "      <th>50%</th>\n",
       "      <td>35749.000000</td>\n",
       "      <td>0.000000</td>\n",
       "      <td>30.000000</td>\n",
       "      <td>542.000000</td>\n",
       "      <td>0.000000</td>\n",
       "      <td>0.000000</td>\n",
       "      <td>9.000000</td>\n",
       "      <td>0.000000</td>\n",
       "      <td>0.000000</td>\n",
       "      <td>65.000000</td>\n",
       "      <td>...</td>\n",
       "      <td>0.000000</td>\n",
       "      <td>0.000000</td>\n",
       "      <td>0.000000</td>\n",
       "      <td>0.000000</td>\n",
       "      <td>0.000000</td>\n",
       "      <td>0.000000</td>\n",
       "      <td>0.000000</td>\n",
       "      <td>25.000000</td>\n",
       "      <td>0.780000</td>\n",
       "      <td>0.000000</td>\n",
       "    </tr>\n",
       "    <tr>\n",
       "      <th>75%</th>\n",
       "      <td>53244.250000</td>\n",
       "      <td>1.000000</td>\n",
       "      <td>37.000000</td>\n",
       "      <td>578.000000</td>\n",
       "      <td>1.000000</td>\n",
       "      <td>0.000000</td>\n",
       "      <td>43.000000</td>\n",
       "      <td>1.000000</td>\n",
       "      <td>0.000000</td>\n",
       "      <td>164.000000</td>\n",
       "      <td>...</td>\n",
       "      <td>0.000000</td>\n",
       "      <td>0.000000</td>\n",
       "      <td>0.000000</td>\n",
       "      <td>0.000000</td>\n",
       "      <td>0.000000</td>\n",
       "      <td>0.000000</td>\n",
       "      <td>0.000000</td>\n",
       "      <td>48.000000</td>\n",
       "      <td>1.530000</td>\n",
       "      <td>1.000000</td>\n",
       "    </tr>\n",
       "    <tr>\n",
       "      <th>max</th>\n",
       "      <td>69658.000000</td>\n",
       "      <td>1.000000</td>\n",
       "      <td>91.000000</td>\n",
       "      <td>838.000000</td>\n",
       "      <td>65.000000</td>\n",
       "      <td>29.000000</td>\n",
       "      <td>1067.000000</td>\n",
       "      <td>63.000000</td>\n",
       "      <td>29.000000</td>\n",
       "      <td>522.000000</td>\n",
       "      <td>...</td>\n",
       "      <td>5.000000</td>\n",
       "      <td>1.000000</td>\n",
       "      <td>1.000000</td>\n",
       "      <td>1.000000</td>\n",
       "      <td>1.000000</td>\n",
       "      <td>1.000000</td>\n",
       "      <td>1.000000</td>\n",
       "      <td>114.000000</td>\n",
       "      <td>4.000000</td>\n",
       "      <td>1.000000</td>\n",
       "    </tr>\n",
       "  </tbody>\n",
       "</table>\n",
       "<p>8 rows × 28 columns</p>\n",
       "</div>"
      ],
      "text/plain": [
       "               user         churn           age  credit_score      deposits  \\\n",
       "count  27000.000000  27000.000000  26996.000000  18969.000000  27000.000000   \n",
       "mean   35422.702519      0.413852     32.219921    542.944225      3.341556   \n",
       "std    20321.006678      0.492532      9.964838     61.059315      9.131406   \n",
       "min        1.000000      0.000000     17.000000      2.000000      0.000000   \n",
       "25%    17810.500000      0.000000     25.000000    507.000000      0.000000   \n",
       "50%    35749.000000      0.000000     30.000000    542.000000      0.000000   \n",
       "75%    53244.250000      1.000000     37.000000    578.000000      1.000000   \n",
       "max    69658.000000      1.000000     91.000000    838.000000     65.000000   \n",
       "\n",
       "         withdrawal  purchases_partners     purchases      cc_taken  \\\n",
       "count  27000.000000        27000.000000  27000.000000  27000.000000   \n",
       "mean       0.307000           28.062519      3.273481      0.073778   \n",
       "std        1.055416           42.219686      8.953077      0.437299   \n",
       "min        0.000000            0.000000      0.000000      0.000000   \n",
       "25%        0.000000            0.000000      0.000000      0.000000   \n",
       "50%        0.000000            9.000000      0.000000      0.000000   \n",
       "75%        0.000000           43.000000      1.000000      0.000000   \n",
       "max       29.000000         1067.000000     63.000000     29.000000   \n",
       "\n",
       "       cc_recommended  ...  registered_phones  waiting_4_loan  cancelled_loan  \\\n",
       "count    27000.000000  ...       27000.000000    27000.000000    27000.000000   \n",
       "mean        92.625778  ...           0.420926        0.001296        0.018815   \n",
       "std         88.869343  ...           0.912831        0.035981        0.135873   \n",
       "min          0.000000  ...           0.000000        0.000000        0.000000   \n",
       "25%         10.000000  ...           0.000000        0.000000        0.000000   \n",
       "50%         65.000000  ...           0.000000        0.000000        0.000000   \n",
       "75%        164.000000  ...           0.000000        0.000000        0.000000   \n",
       "max        522.000000  ...           5.000000        1.000000        1.000000   \n",
       "\n",
       "       received_loan  rejected_loan  left_for_two_month_plus  \\\n",
       "count   27000.000000   27000.000000             27000.000000   \n",
       "mean        0.018185       0.004889                 0.173444   \n",
       "std         0.133623       0.069751                 0.378638   \n",
       "min         0.000000       0.000000                 0.000000   \n",
       "25%         0.000000       0.000000                 0.000000   \n",
       "50%         0.000000       0.000000                 0.000000   \n",
       "75%         0.000000       0.000000                 0.000000   \n",
       "max         1.000000       1.000000                 1.000000   \n",
       "\n",
       "       left_for_one_month  rewards_earned   reward_rate   is_referred  \n",
       "count        27000.000000    23773.000000  27000.000000  27000.000000  \n",
       "mean             0.018074       29.110125      0.907684      0.318037  \n",
       "std              0.133222       21.973478      0.752016      0.465723  \n",
       "min              0.000000        1.000000      0.000000      0.000000  \n",
       "25%              0.000000        9.000000      0.200000      0.000000  \n",
       "50%              0.000000       25.000000      0.780000      0.000000  \n",
       "75%              0.000000       48.000000      1.530000      1.000000  \n",
       "max              1.000000      114.000000      4.000000      1.000000  \n",
       "\n",
       "[8 rows x 28 columns]"
      ]
     },
     "execution_count": 26,
     "metadata": {},
     "output_type": "execute_result"
    }
   ],
   "source": [
    "df.describe()"
   ]
  },
  {
   "cell_type": "code",
   "execution_count": null,
   "id": "83c275bd-3c53-49fc-b962-6a3aaf573d85",
   "metadata": {},
   "outputs": [],
   "source": [
    "num_cols = df.select_dtypes(include='Number').columns\n",
    "df[num_cols] = df[num_cols].fillna(df[num_cols].median())\n",
    "\n",
    "cat_cols = df.select_dtypes(include ='object').columns\n",
    "df[cat_cols] = df[cat_cols].fillna(df[cat_cols].model().iloc[o])"
   ]
  },
  {
   "cell_type": "code",
   "execution_count": 38,
   "id": "0e5bcd2d-4ed1-4b3d-beaf-689313544914",
   "metadata": {},
   "outputs": [],
   "source": [
    "X = df.drop(columns=['user', 'churn'])  # drop id and target\n",
    "y = df['churn']"
   ]
  },
  {
   "cell_type": "code",
   "execution_count": 40,
   "id": "472f6947-c038-433b-80fd-6bcee0288f23",
   "metadata": {},
   "outputs": [],
   "source": [
    "from sklearn.model_selection import train_test_split\n",
    "\n",
    "X_train, X_test, y_train, y_test = train_test_split(\n",
    "    X, y, test_size=0.2, random_state=42, stratify=y\n",
    ")"
   ]
  },
  {
   "cell_type": "code",
   "execution_count": 44,
   "id": "c5363197-e001-4623-b086-ab65f7694bd0",
   "metadata": {},
   "outputs": [],
   "source": [
    "import numpy as np\n",
    "\n",
    "df.replace('na' , np.nan , inplace = True)"
   ]
  },
  {
   "cell_type": "code",
   "execution_count": 46,
   "id": "c4665e08-255c-4586-8f9d-50d3748260c9",
   "metadata": {},
   "outputs": [],
   "source": [
    "cat_cols = df.select_dtypes(include='object').columns"
   ]
  },
  {
   "cell_type": "code",
   "execution_count": 48,
   "id": "f94d7311-5f5f-4488-8ce5-b80fffce23fd",
   "metadata": {},
   "outputs": [],
   "source": [
    "from sklearn.preprocessing import LabelEncoder\n",
    "\n",
    "label_enc = LabelEncoder()\n",
    "\n",
    "for col in cat_cols:\n",
    "    df[col] = label_enc.fit_transform(df[col].astype(str))"
   ]
  },
  {
   "cell_type": "code",
   "execution_count": 50,
   "id": "5d062fe4-96a5-40eb-96e2-f7e58f9ef667",
   "metadata": {},
   "outputs": [],
   "source": [
    "X = df.drop(columns=['user', 'churn'])  # drop id and target\n",
    "y = df['churn']"
   ]
  },
  {
   "cell_type": "code",
   "execution_count": 52,
   "id": "b235fb74-bf58-41f1-8cf1-6fac2b96ab71",
   "metadata": {},
   "outputs": [],
   "source": [
    "from sklearn.model_selection import train_test_split\n",
    "\n",
    "X_train, X_test, y_train, y_test = train_test_split(\n",
    "    X, y, test_size=0.2, random_state=42, stratify=y\n",
    ")"
   ]
  },
  {
   "cell_type": "raw",
   "id": "152e3fd9-9e2e-4622-86c7-c79075398f9e",
   "metadata": {},
   "source": [
    "print(X_train.dtypes)"
   ]
  },
  {
   "cell_type": "code",
   "execution_count": 56,
   "id": "25a81716-d036-4491-8791-e80da5b571f4",
   "metadata": {},
   "outputs": [
    {
     "name": "stdout",
     "output_type": "stream",
     "text": [
      "age                        float64\n",
      "housing                      int32\n",
      "credit_score               float64\n",
      "deposits                     int64\n",
      "withdrawal                   int64\n",
      "purchases_partners           int64\n",
      "purchases                    int64\n",
      "cc_taken                     int64\n",
      "cc_recommended               int64\n",
      "cc_disliked                  int64\n",
      "cc_liked                     int64\n",
      "cc_application_begin         int64\n",
      "app_downloaded               int64\n",
      "web_user                     int64\n",
      "app_web_user                 int64\n",
      "ios_user                     int64\n",
      "android_user                 int64\n",
      "registered_phones            int64\n",
      "payment_type                 int32\n",
      "waiting_4_loan               int64\n",
      "cancelled_loan               int64\n",
      "received_loan                int64\n",
      "rejected_loan                int64\n",
      "zodiac_sign                  int32\n",
      "left_for_two_month_plus      int64\n",
      "left_for_one_month           int64\n",
      "rewards_earned             float64\n",
      "reward_rate                float64\n",
      "is_referred                  int64\n",
      "dtype: object\n"
     ]
    }
   ],
   "source": [
    "print(X_train.dtypes)"
   ]
  },
  {
   "cell_type": "code",
   "execution_count": 58,
   "id": "3e191271-c832-4550-928d-2ef440117e9f",
   "metadata": {},
   "outputs": [],
   "source": [
    "cat_cols = X_train.select_dtypes(include='object').columns\n",
    "\n",
    "from sklearn.preprocessing import LabelEncoder\n",
    "le = LabelEncoder()\n",
    "\n",
    "for col in cat_cols:\n",
    "    X_train[col] = le.fit_transform(X_train[col].astype(str))\n",
    "    X_test[col] = le.transform(X_test[col].astype(str))"
   ]
  },
  {
   "cell_type": "code",
   "execution_count": 60,
   "id": "63060f3a-d7cc-43e4-883a-6f21a0ca33be",
   "metadata": {},
   "outputs": [
    {
     "name": "stdout",
     "output_type": "stream",
     "text": [
      "age                           3\n",
      "housing                       0\n",
      "credit_score               6409\n",
      "deposits                      0\n",
      "withdrawal                    0\n",
      "purchases_partners            0\n",
      "purchases                     0\n",
      "cc_taken                      0\n",
      "cc_recommended                0\n",
      "cc_disliked                   0\n",
      "cc_liked                      0\n",
      "cc_application_begin          0\n",
      "app_downloaded                0\n",
      "web_user                      0\n",
      "app_web_user                  0\n",
      "ios_user                      0\n",
      "android_user                  0\n",
      "registered_phones             0\n",
      "payment_type                  0\n",
      "waiting_4_loan                0\n",
      "cancelled_loan                0\n",
      "received_loan                 0\n",
      "rejected_loan                 0\n",
      "zodiac_sign                   0\n",
      "left_for_two_month_plus       0\n",
      "left_for_one_month            0\n",
      "rewards_earned             2552\n",
      "reward_rate                   0\n",
      "is_referred                   0\n",
      "dtype: int64\n"
     ]
    }
   ],
   "source": [
    "print(X_train.isnull().sum())  \n",
    "\n",
    "# Αν υπάρχουν, ξανακάνε:\n",
    "X_train = X_train.fillna(X_train.median(numeric_only=True))\n",
    "X_test = X_test.fillna(X_test.median(numeric_only=True))"
   ]
  },
  {
   "cell_type": "code",
   "execution_count": 64,
   "id": "fde3d9f6-43cf-4a6b-9147-841e1994ca70",
   "metadata": {},
   "outputs": [
    {
     "data": {
      "text/plain": [
       "age                        0\n",
       "housing                    0\n",
       "credit_score               0\n",
       "deposits                   0\n",
       "withdrawal                 0\n",
       "purchases_partners         0\n",
       "purchases                  0\n",
       "cc_taken                   0\n",
       "cc_recommended             0\n",
       "cc_disliked                0\n",
       "cc_liked                   0\n",
       "cc_application_begin       0\n",
       "app_downloaded             0\n",
       "web_user                   0\n",
       "app_web_user               0\n",
       "ios_user                   0\n",
       "android_user               0\n",
       "registered_phones          0\n",
       "payment_type               0\n",
       "waiting_4_loan             0\n",
       "cancelled_loan             0\n",
       "received_loan              0\n",
       "rejected_loan              0\n",
       "zodiac_sign                0\n",
       "left_for_two_month_plus    0\n",
       "left_for_one_month         0\n",
       "rewards_earned             0\n",
       "reward_rate                0\n",
       "is_referred                0\n",
       "dtype: int64"
      ]
     },
     "execution_count": 64,
     "metadata": {},
     "output_type": "execute_result"
    }
   ],
   "source": [
    "X_train.dtypes\n",
    "X_train.isnull().sum()"
   ]
  },
  {
   "cell_type": "code",
   "execution_count": 66,
   "id": "b48dc7e2-bbb2-45c7-87a4-0377e85ec086",
   "metadata": {},
   "outputs": [],
   "source": [
    "from sklearn.model_selection import train_test_split\n",
    "\n",
    "X_train, X_test, y_train, y_test = train_test_split(\n",
    "    X, y, test_size=0.2, random_state=42, stratify=y\n",
    ")"
   ]
  },
  {
   "cell_type": "code",
   "execution_count": 70,
   "id": "a4f880a9-ba37-4823-a98b-b549853c2f72",
   "metadata": {},
   "outputs": [
    {
     "name": "stdout",
     "output_type": "stream",
     "text": [
      "credit_score               6409\n",
      "rewards_earned             2552\n",
      "age                           3\n",
      "ios_user                      0\n",
      "reward_rate                   0\n",
      "left_for_one_month            0\n",
      "left_for_two_month_plus       0\n",
      "zodiac_sign                   0\n",
      "rejected_loan                 0\n",
      "received_loan                 0\n",
      "dtype: int64\n"
     ]
    }
   ],
   "source": [
    "print(X_train.isnull().sum().sort_values(ascending=False).head(10))"
   ]
  },
  {
   "cell_type": "code",
   "execution_count": 72,
   "id": "b8929a17-5eff-4dfe-a0de-29ca0617bd1e",
   "metadata": {},
   "outputs": [
    {
     "name": "stdout",
     "output_type": "stream",
     "text": [
      "age                        float64\n",
      "housing                      int32\n",
      "credit_score               float64\n",
      "deposits                     int64\n",
      "withdrawal                   int64\n",
      "purchases_partners           int64\n",
      "purchases                    int64\n",
      "cc_taken                     int64\n",
      "cc_recommended               int64\n",
      "cc_disliked                  int64\n",
      "cc_liked                     int64\n",
      "cc_application_begin         int64\n",
      "app_downloaded               int64\n",
      "web_user                     int64\n",
      "app_web_user                 int64\n",
      "ios_user                     int64\n",
      "android_user                 int64\n",
      "registered_phones            int64\n",
      "payment_type                 int32\n",
      "waiting_4_loan               int64\n",
      "cancelled_loan               int64\n",
      "received_loan                int64\n",
      "rejected_loan                int64\n",
      "zodiac_sign                  int32\n",
      "left_for_two_month_plus      int64\n",
      "left_for_one_month           int64\n",
      "rewards_earned             float64\n",
      "reward_rate                float64\n",
      "is_referred                  int64\n",
      "dtype: object\n"
     ]
    }
   ],
   "source": [
    "print(X_train.dtypes)"
   ]
  },
  {
   "cell_type": "code",
   "execution_count": 74,
   "id": "51570f89-25f4-431e-b820-cb8014e9bcdf",
   "metadata": {},
   "outputs": [],
   "source": [
    "df.replace('na', np.nan, inplace=True)"
   ]
  },
  {
   "cell_type": "code",
   "execution_count": 76,
   "id": "ecc97f03-a006-415c-9318-b077d0ae2ab0",
   "metadata": {},
   "outputs": [],
   "source": [
    "df['credit_score'] = df['credit_score'].fillna(df['credit_score'].median())\n",
    "df['rewards_earned'] = df['rewards_earned'].fillna(df['rewards_earned'].median())\n",
    "df['age'] = df['age'].fillna(df['age'].median())"
   ]
  },
  {
   "cell_type": "code",
   "execution_count": 78,
   "id": "7ae3ba03-f6b1-41e9-90c1-8dfb815f73de",
   "metadata": {},
   "outputs": [
    {
     "name": "stdout",
     "output_type": "stream",
     "text": [
      "Υπάρχουν ακόμα NaN; 0\n"
     ]
    }
   ],
   "source": [
    "print(\"Υπάρχουν ακόμα NaN;\", df.isnull().sum().sum())  # Πρέπει να είναι 0"
   ]
  },
  {
   "cell_type": "code",
   "execution_count": 80,
   "id": "89f8926f-6edf-4047-96d3-397e1dce9982",
   "metadata": {},
   "outputs": [
    {
     "name": "stdout",
     "output_type": "stream",
     "text": [
      "Accuracy: 0.6446296296296297\n",
      "              precision    recall  f1-score   support\n",
      "\n",
      "           0       0.67      0.77      0.72      3165\n",
      "           1       0.59      0.46      0.52      2235\n",
      "\n",
      "    accuracy                           0.64      5400\n",
      "   macro avg       0.63      0.62      0.62      5400\n",
      "weighted avg       0.64      0.64      0.64      5400\n",
      "\n"
     ]
    },
    {
     "name": "stderr",
     "output_type": "stream",
     "text": [
      "C:\\Users\\user\\anaconda3\\Lib\\site-packages\\sklearn\\linear_model\\_logistic.py:469: ConvergenceWarning: lbfgs failed to converge (status=1):\n",
      "STOP: TOTAL NO. of ITERATIONS REACHED LIMIT.\n",
      "\n",
      "Increase the number of iterations (max_iter) or scale the data as shown in:\n",
      "    https://scikit-learn.org/stable/modules/preprocessing.html\n",
      "Please also refer to the documentation for alternative solver options:\n",
      "    https://scikit-learn.org/stable/modules/linear_model.html#logistic-regression\n",
      "  n_iter_i = _check_optimize_result(\n"
     ]
    }
   ],
   "source": [
    "from sklearn.model_selection import train_test_split\n",
    "from sklearn.linear_model import LogisticRegression\n",
    "from sklearn.metrics import accuracy_score, classification_report\n",
    "\n",
    "\n",
    "X = df.drop(columns=['user', 'churn'])  # ή όποιο άλλο ID\n",
    "y = df['churn']\n",
    "\n",
    "# Train/Test split\n",
    "X_train, X_test, y_train, y_test = train_test_split(X, y, test_size=0.2, random_state=42, stratify=y)\n",
    "\n",
    "# Fit\n",
    "model = LogisticRegression(max_iter=1000)\n",
    "model.fit(X_train, y_train)\n",
    "\n",
    "# Predict\n",
    "y_pred = model.predict(X_test)\n",
    "\n",
    "# Αποτελέσματα\n",
    "print(\"Accuracy:\", accuracy_score(y_test, y_pred))\n",
    "print(classification_report(y_test, y_pred))"
   ]
  },
  {
   "cell_type": "code",
   "execution_count": null,
   "id": "c2b29fdd-9c3b-426a-9f54-3bf9de9024bb",
   "metadata": {},
   "outputs": [],
   "source": [
    "!pip install xgboost"
   ]
  },
  {
   "cell_type": "code",
   "execution_count": null,
   "id": "b57f31ff-8aa5-4cfa-8312-3358adaadc04",
   "metadata": {},
   "outputs": [],
   "source": [
    "conda install -c conda-forge xgboost"
   ]
  },
  {
   "cell_type": "code",
   "execution_count": null,
   "id": "31788f31-bf2b-4670-9291-db33032ee7aa",
   "metadata": {},
   "outputs": [],
   "source": [
    "from xgboost import XGBClassifier"
   ]
  },
  {
   "cell_type": "code",
   "execution_count": null,
   "id": "ed218a90-52ab-4fe4-a133-05f1e2f9be38",
   "metadata": {},
   "outputs": [],
   "source": [
    "from sklearn.ensemble import RandomForestClassifier\n",
    "from xgboost import XGBClassifier\n",
    "from sklearn.metrics import classification_report\n",
    "\n",
    "# Random Forest\n",
    "rf = RandomForestClassifier(random_state=42)\n",
    "rf.fit(X_train, y_train)\n",
    "y_pred_rf = rf.predict(X_test)\n",
    "print(\"Random Forest:\")\n",
    "print(classification_report(y_test, y_pred_rf))\n",
    "\n",
    "xgb = XGBClassifier(use_label_encoder=False, eval_metric='logloss')\n",
    "xgb.fit(X_train, y_train)\n",
    "y_pred_xgb = xgb.predict(X_test)\n",
    "print(\"XGBoost:\")\n",
    "print(classification_report(y_test, y_pred_xgb))"
   ]
  },
  {
   "cell_type": "code",
   "execution_count": null,
   "id": "23cefc2e-ba92-4939-bf50-6678f49c754d",
   "metadata": {},
   "outputs": [],
   "source": [
    "from imblearn.over_sampling import SMOTE\n",
    "\n",
    "smote = SMOTE(random_state=42)\n",
    "X_resampled, y_resampled = smote.fit_resample(X_train, y_train)\n",
    "\n",
    "\n",
    "model = RandomForestClassifier()\n",
    "model.fit(X_resampled, y_resampled)\n",
    "\n",
    "y_pred = model.predict(X_test)\n",
    "print(\"Μετά το SMOTE:\")\n",
    "print(classification_report(y_test, y_pred))"
   ]
  },
  {
   "cell_type": "code",
   "execution_count": null,
   "id": "aa38e1c2-5b5c-4230-a3ce-4cffe24f4dc0",
   "metadata": {},
   "outputs": [],
   "source": [
    "import matplotlib.pyplot as plt\n",
    "\n",
    "importances = model.feature_importances_\n",
    "features = X_train.columns\n",
    "\n",
    "\n",
    "feat_imp = pd.Series(importances, index=features).sort_values(ascending=False)\n",
    "\n",
    "# Γράφημα\n",
    "feat_imp.head(15).plot(kind='barh')\n",
    "plt.title(\"Top σημαντικά features\")\n",
    "plt.gca().invert_yaxis()\n",
    "plt.show()"
   ]
  },
  {
   "cell_type": "code",
   "execution_count": null,
   "id": "fd6f0540-cf04-4a13-8537-44c22839080b",
   "metadata": {},
   "outputs": [],
   "source": [
    "from sklearn.ensemble import StackingClassifier\n",
    "\n",
    "estimators = [\n",
    "    ('rf', RandomForestClassifier()),\n",
    "    ('lr', LogisticRegression(max_iter=1000))\n",
    "]\n",
    "\n",
    "stack = StackingClassifier(\n",
    "    estimators=estimators,\n",
    "    final_estimator=XGBClassifier()\n",
    ")\n",
    "\n",
    "stack.fit(X_resampled, y_resampled)\n",
    "y_pred = stack.predict(X_test)\n",
    "print(\"Stacked Model:\")\n",
    "print(classification_report(y_test, y_pred))"
   ]
  },
  {
   "cell_type": "code",
   "execution_count": null,
   "id": "62c36a74-e550-4b4f-abbf-0e2096a9d0cc",
   "metadata": {},
   "outputs": [],
   "source": [
    "from sklearn.metrics import classification_report\n",
    "\n",
    "y_pred = model.predict(X_test)\n",
    "print(classification_report(y_test, y_pred)) "
   ]
  },
  {
   "cell_type": "code",
   "execution_count": null,
   "id": "4ba76c64-48d8-492d-9db4-1c7564a71f20",
   "metadata": {},
   "outputs": [],
   "source": [
    "classification_report(y_test, y_pred)"
   ]
  },
  {
   "cell_type": "code",
   "execution_count": 95,
   "id": "c6fa9d59-1ba6-4005-8127-72b33f0c2e37",
   "metadata": {},
   "outputs": [
    {
     "name": "stdout",
     "output_type": "stream",
     "text": [
      "Training...\n",
      "Done training!\n",
      "Predictions complete.\n",
      "              precision    recall  f1-score   support\n",
      "\n",
      "           0       0.67      0.77      0.72      3165\n",
      "           1       0.59      0.46      0.52      2235\n",
      "\n",
      "    accuracy                           0.64      5400\n",
      "   macro avg       0.63      0.62      0.62      5400\n",
      "weighted avg       0.64      0.64      0.64      5400\n",
      "\n"
     ]
    },
    {
     "name": "stderr",
     "output_type": "stream",
     "text": [
      "C:\\Users\\user\\anaconda3\\Lib\\site-packages\\sklearn\\linear_model\\_logistic.py:469: ConvergenceWarning: lbfgs failed to converge (status=1):\n",
      "STOP: TOTAL NO. of ITERATIONS REACHED LIMIT.\n",
      "\n",
      "Increase the number of iterations (max_iter) or scale the data as shown in:\n",
      "    https://scikit-learn.org/stable/modules/preprocessing.html\n",
      "Please also refer to the documentation for alternative solver options:\n",
      "    https://scikit-learn.org/stable/modules/linear_model.html#logistic-regression\n",
      "  n_iter_i = _check_optimize_result(\n"
     ]
    }
   ],
   "source": [
    "print(\"Training...\")\n",
    "model.fit(X_train, y_train)\n",
    "print(\"Done training!\")\n",
    "\n",
    "y_pred = model.predict(X_test)\n",
    "print(\"Predictions complete.\")\n",
    "\n",
    "print(classification_report(y_test, y_pred))"
   ]
  },
  {
   "cell_type": "code",
   "execution_count": 97,
   "id": "e59ed91e-9f68-47ac-845d-d137d84882cb",
   "metadata": {},
   "outputs": [
    {
     "name": "stdout",
     "output_type": "stream",
     "text": [
      "Results:\n",
      "              precision    recall  f1-score   support\n",
      "\n",
      "           0       0.74      0.84      0.79      3166\n",
      "           1       0.72      0.59      0.65      2234\n",
      "\n",
      "    accuracy                           0.74      5400\n",
      "   macro avg       0.73      0.71      0.72      5400\n",
      "weighted avg       0.73      0.74      0.73      5400\n",
      "\n"
     ]
    }
   ],
   "source": [
    "from sklearn.ensemble import RandomForestClassifier\n",
    "from sklearn.metrics import classification_report\n",
    "from sklearn.model_selection import train_test_split\n",
    "\n",
    "# Αντικατάστησε 'df' με το δικό σου DataFrame\n",
    "X = df.drop('churn', axis=1)\n",
    "y = df['churn']\n",
    "\n",
    "# Split\n",
    "X_train, X_test, y_train, y_test = train_test_split(X, y, test_size=0.2, random_state=42)\n",
    "\n",
    "# Train\n",
    "model = RandomForestClassifier(random_state=42)\n",
    "model.fit(X_train, y_train)\n",
    "\n",
    "# Predict\n",
    "y_pred = model.predict(X_test)\n",
    "\n",
    "# Print results\n",
    "print(\"Results:\")\n",
    "print(classification_report(y_test, y_pred))"
   ]
  },
  {
   "cell_type": "code",
   "execution_count": 99,
   "id": "18784261-d5d4-45f0-b870-23cb866c7a54",
   "metadata": {},
   "outputs": [
    {
     "name": "stderr",
     "output_type": "stream",
     "text": [
      "C:\\Users\\user\\anaconda3\\Lib\\site-packages\\joblib\\externals\\loky\\backend\\context.py:136: UserWarning: Could not find the number of physical cores for the following reason:\n",
      "found 0 physical cores < 1\n",
      "Returning the number of logical cores instead. You can silence this warning by setting LOKY_MAX_CPU_COUNT to the number of cores you want to use.\n",
      "  warnings.warn(\n",
      "  File \"C:\\Users\\user\\anaconda3\\Lib\\site-packages\\joblib\\externals\\loky\\backend\\context.py\", line 282, in _count_physical_cores\n",
      "    raise ValueError(f\"found {cpu_count_physical} physical cores < 1\")\n"
     ]
    },
    {
     "name": "stdout",
     "output_type": "stream",
     "text": [
      "              precision    recall  f1-score   support\n",
      "\n",
      "           0       0.77      0.80      0.78      3166\n",
      "           1       0.70      0.66      0.68      2234\n",
      "\n",
      "    accuracy                           0.74      5400\n",
      "   macro avg       0.73      0.73      0.73      5400\n",
      "weighted avg       0.74      0.74      0.74      5400\n",
      "\n"
     ]
    }
   ],
   "source": [
    "from imblearn.over_sampling import SMOTE\n",
    "\n",
    "sm = SMOTE(random_state=42)\n",
    "X_resampled, y_resampled = sm.fit_resample(X_train, y_train)\n",
    "\n",
    "model = RandomForestClassifier(random_state=42)\n",
    "model.fit(X_resampled, y_resampled)\n",
    "y_pred = model.predict(X_test)\n",
    "print(classification_report(y_test, y_pred))"
   ]
  },
  {
   "cell_type": "code",
   "execution_count": 101,
   "id": "68155357-b506-4c11-8bbd-5904b5c50c84",
   "metadata": {},
   "outputs": [
    {
     "name": "stderr",
     "output_type": "stream",
     "text": [
      "C:\\Users\\user\\anaconda3\\Lib\\site-packages\\xgboost\\training.py:183: UserWarning: [00:25:10] WARNING: C:\\actions-runner\\_work\\xgboost\\xgboost\\src\\learner.cc:738: \n",
      "Parameters: { \"use_label_encoder\" } are not used.\n",
      "\n",
      "  bst.update(dtrain, iteration=i, fobj=obj)\n"
     ]
    },
    {
     "name": "stdout",
     "output_type": "stream",
     "text": [
      "              precision    recall  f1-score   support\n",
      "\n",
      "           0       0.76      0.77      0.76      3166\n",
      "           1       0.66      0.65      0.66      2234\n",
      "\n",
      "    accuracy                           0.72      5400\n",
      "   macro avg       0.71      0.71      0.71      5400\n",
      "weighted avg       0.72      0.72      0.72      5400\n",
      "\n"
     ]
    }
   ],
   "source": [
    "from xgboost import XGBClassifier\n",
    "\n",
    "model = XGBClassifier(use_label_encoder=False, eval_metric='logloss')\n",
    "model.fit(X_resampled, y_resampled)\n",
    "y_pred = model.predict(X_test)\n",
    "print(classification_report(y_test, y_pred))"
   ]
  },
  {
   "cell_type": "code",
   "execution_count": 103,
   "id": "f3d700df-473b-4899-a1cb-e36a19539ae0",
   "metadata": {},
   "outputs": [
    {
     "name": "stderr",
     "output_type": "stream",
     "text": [
      "C:\\Users\\user\\anaconda3\\Lib\\site-packages\\sklearn\\linear_model\\_logistic.py:469: ConvergenceWarning: lbfgs failed to converge (status=1):\n",
      "STOP: TOTAL NO. of ITERATIONS REACHED LIMIT.\n",
      "\n",
      "Increase the number of iterations (max_iter) or scale the data as shown in:\n",
      "    https://scikit-learn.org/stable/modules/preprocessing.html\n",
      "Please also refer to the documentation for alternative solver options:\n",
      "    https://scikit-learn.org/stable/modules/linear_model.html#logistic-regression\n",
      "  n_iter_i = _check_optimize_result(\n",
      "C:\\Users\\user\\anaconda3\\Lib\\site-packages\\sklearn\\linear_model\\_logistic.py:469: ConvergenceWarning: lbfgs failed to converge (status=1):\n",
      "STOP: TOTAL NO. of ITERATIONS REACHED LIMIT.\n",
      "\n",
      "Increase the number of iterations (max_iter) or scale the data as shown in:\n",
      "    https://scikit-learn.org/stable/modules/preprocessing.html\n",
      "Please also refer to the documentation for alternative solver options:\n",
      "    https://scikit-learn.org/stable/modules/linear_model.html#logistic-regression\n",
      "  n_iter_i = _check_optimize_result(\n",
      "C:\\Users\\user\\anaconda3\\Lib\\site-packages\\sklearn\\linear_model\\_logistic.py:469: ConvergenceWarning: lbfgs failed to converge (status=1):\n",
      "STOP: TOTAL NO. of ITERATIONS REACHED LIMIT.\n",
      "\n",
      "Increase the number of iterations (max_iter) or scale the data as shown in:\n",
      "    https://scikit-learn.org/stable/modules/preprocessing.html\n",
      "Please also refer to the documentation for alternative solver options:\n",
      "    https://scikit-learn.org/stable/modules/linear_model.html#logistic-regression\n",
      "  n_iter_i = _check_optimize_result(\n",
      "C:\\Users\\user\\anaconda3\\Lib\\site-packages\\sklearn\\linear_model\\_logistic.py:469: ConvergenceWarning: lbfgs failed to converge (status=1):\n",
      "STOP: TOTAL NO. of ITERATIONS REACHED LIMIT.\n",
      "\n",
      "Increase the number of iterations (max_iter) or scale the data as shown in:\n",
      "    https://scikit-learn.org/stable/modules/preprocessing.html\n",
      "Please also refer to the documentation for alternative solver options:\n",
      "    https://scikit-learn.org/stable/modules/linear_model.html#logistic-regression\n",
      "  n_iter_i = _check_optimize_result(\n",
      "C:\\Users\\user\\anaconda3\\Lib\\site-packages\\sklearn\\linear_model\\_logistic.py:469: ConvergenceWarning: lbfgs failed to converge (status=1):\n",
      "STOP: TOTAL NO. of ITERATIONS REACHED LIMIT.\n",
      "\n",
      "Increase the number of iterations (max_iter) or scale the data as shown in:\n",
      "    https://scikit-learn.org/stable/modules/preprocessing.html\n",
      "Please also refer to the documentation for alternative solver options:\n",
      "    https://scikit-learn.org/stable/modules/linear_model.html#logistic-regression\n",
      "  n_iter_i = _check_optimize_result(\n",
      "C:\\Users\\user\\anaconda3\\Lib\\site-packages\\sklearn\\linear_model\\_logistic.py:469: ConvergenceWarning: lbfgs failed to converge (status=1):\n",
      "STOP: TOTAL NO. of ITERATIONS REACHED LIMIT.\n",
      "\n",
      "Increase the number of iterations (max_iter) or scale the data as shown in:\n",
      "    https://scikit-learn.org/stable/modules/preprocessing.html\n",
      "Please also refer to the documentation for alternative solver options:\n",
      "    https://scikit-learn.org/stable/modules/linear_model.html#logistic-regression\n",
      "  n_iter_i = _check_optimize_result(\n"
     ]
    },
    {
     "name": "stdout",
     "output_type": "stream",
     "text": [
      "Stacked Model:\n",
      "              precision    recall  f1-score   support\n",
      "\n",
      "           0       0.78      0.75      0.76      3166\n",
      "           1       0.66      0.70      0.68      2234\n",
      "\n",
      "    accuracy                           0.72      5400\n",
      "   macro avg       0.72      0.72      0.72      5400\n",
      "weighted avg       0.73      0.72      0.73      5400\n",
      "\n"
     ]
    }
   ],
   "source": [
    "from sklearn.ensemble import StackingClassifier\n",
    "\n",
    "estimators = [\n",
    "    ('rf', RandomForestClassifier()),\n",
    "    ('lr', LogisticRegression(max_iter=1000))\n",
    "]\n",
    "\n",
    "stack = StackingClassifier(\n",
    "    estimators=estimators,\n",
    "    final_estimator=XGBClassifier()\n",
    ")\n",
    "\n",
    "stack.fit(X_resampled, y_resampled)\n",
    "y_pred = stack.predict(X_test)\n",
    "print(\"Stacked Model:\")\n",
    "print(classification_report(y_test, y_pred))"
   ]
  },
  {
   "cell_type": "code",
   "execution_count": 107,
   "id": "8c0dc17c-8922-4ed7-a738-124598c1439a",
   "metadata": {},
   "outputs": [
    {
     "data": {
      "image/png": "[encoded data removed]",
      "text/plain": [
       "<Figure size 640x480 with 1 Axes>"
      ]
     },
     "metadata": {},
     "output_type": "display_data"
    }
   ],
   "source": [
    "import matplotlib.pyplot as plt\n",
    "\n",
    "importances = model.feature_importances_\n",
    "features = X_train.columns\n",
    "\n",
    "###the most imporant \n",
    "feat_imp = pd.Series(importances, index=features).sort_values(ascending=False)\n",
    "\n",
    "##grapgh\n",
    "feat_imp.head(15).plot(kind='barh')\n",
    "plt.title(\"Top σημαντικά features\")\n",
    "plt.gca().invert_yaxis()\n",
    "plt.show()"
   ]
  },
  {
   "cell_type": "code",
   "execution_count": 109,
   "id": "5da68899-f13c-4308-87b2-3b4d397bab5e",
   "metadata": {},
   "outputs": [
    {
     "name": "stdout",
     "output_type": "stream",
     "text": [
      "Μετά το SMOTE:\n",
      "              precision    recall  f1-score   support\n",
      "\n",
      "           0       0.77      0.79      0.78      3166\n",
      "           1       0.69      0.66      0.68      2234\n",
      "\n",
      "    accuracy                           0.74      5400\n",
      "   macro avg       0.73      0.73      0.73      5400\n",
      "weighted avg       0.74      0.74      0.74      5400\n",
      "\n"
     ]
    }
   ],
   "source": [
    "from imblearn.over_sampling import SMOTE\n",
    "\n",
    "smote = SMOTE(random_state=42)\n",
    "X_resampled, y_resampled = smote.fit_resample(X_train, y_train)\n",
    "\n",
    "# Εκπαίδευσε το μοντέλο σου στο νέο dataset\n",
    "model = RandomForestClassifier()\n",
    "model.fit(X_resampled, y_resampled)\n",
    "\n",
    "y_pred = model.predict(X_test)\n",
    "print(\"Μετά το SMOTE:\")\n",
    "print(classification_report(y_test, y_pred))"
   ]
  },
  {
   "cell_type": "code",
   "execution_count": 111,
   "id": "a46ae34b-70f8-4855-8024-e70640766c82",
   "metadata": {},
   "outputs": [
    {
     "name": "stdout",
     "output_type": "stream",
     "text": [
      "Random Forest:\n",
      "              precision    recall  f1-score   support\n",
      "\n",
      "           0       0.74      0.84      0.79      3166\n",
      "           1       0.72      0.59      0.65      2234\n",
      "\n",
      "    accuracy                           0.74      5400\n",
      "   macro avg       0.73      0.71      0.72      5400\n",
      "weighted avg       0.73      0.74      0.73      5400\n",
      "\n"
     ]
    },
    {
     "name": "stderr",
     "output_type": "stream",
     "text": [
      "C:\\Users\\user\\anaconda3\\Lib\\site-packages\\xgboost\\training.py:183: UserWarning: [00:28:21] WARNING: C:\\actions-runner\\_work\\xgboost\\xgboost\\src\\learner.cc:738: \n",
      "Parameters: { \"use_label_encoder\" } are not used.\n",
      "\n",
      "  bst.update(dtrain, iteration=i, fobj=obj)\n"
     ]
    },
    {
     "name": "stdout",
     "output_type": "stream",
     "text": [
      "XGBoost:\n",
      "              precision    recall  f1-score   support\n",
      "\n",
      "           0       0.75      0.80      0.77      3166\n",
      "           1       0.69      0.62      0.65      2234\n",
      "\n",
      "    accuracy                           0.72      5400\n",
      "   macro avg       0.72      0.71      0.71      5400\n",
      "weighted avg       0.72      0.72      0.72      5400\n",
      "\n"
     ]
    }
   ],
   "source": [
    "from sklearn.ensemble import RandomForestClassifier\n",
    "from xgboost import XGBClassifier\n",
    "from sklearn.metrics import classification_report\n",
    "\n",
    "# Random Forest\n",
    "rf = RandomForestClassifier(random_state=42)\n",
    "rf.fit(X_train, y_train)\n",
    "y_pred_rf = rf.predict(X_test)\n",
    "print(\"Random Forest:\")\n",
    "print(classification_report(y_test, y_pred_rf))\n",
    "\n",
    "\n",
    "xgb = XGBClassifier(use_label_encoder=False, eval_metric='logloss')\n",
    "xgb.fit(X_train, y_train)\n",
    "y_pred_xgb = xgb.predict(X_test)\n",
    "print(\"XGBoost:\")\n",
    "print(classification_report(y_test, y_pred_xgb))"
   ]
  },
  {
   "cell_type": "code",
   "execution_count": null,
   "id": "f89b8f21-0b10-4a1d-a64d-ea34aa136ce7",
   "metadata": {},
   "outputs": [],
   "source": []
  }
 ],
 "metadata": {
  "kernelspec": {
   "display_name": "Python [conda env:base] *",
   "language": "python",
   "name": "conda-base-py"
  },
  "language_info": {
   "codemirror_mode": {
    "name": "ipython",
    "version": 3
   },
   "file_extension": ".py",
   "mimetype": "text/x-python",
   "name": "python",
   "nbconvert_exporter": "python",
   "pygments_lexer": "ipython3",
   "version": "3.12.7"
  }
 },
 "nbformat": 4,
 "nbformat_minor": 5
}
